{
 "cells": [
  {
   "cell_type": "code",
   "execution_count": 1,
   "metadata": {},
   "outputs": [],
   "source": [
    "import numpy as np\n",
    "import pandas as pd\n",
    "import matplotlib.pyplot as plt\n",
    "%matplotlib inline"
   ]
  },
  {
   "cell_type": "code",
   "execution_count": 2,
   "metadata": {},
   "outputs": [],
   "source": [
    "np.random.seed(101)"
   ]
  },
  {
   "cell_type": "code",
   "execution_count": 3,
   "metadata": {},
   "outputs": [],
   "source": [
    "df = pd.read_csv('tae.data', header=None)"
   ]
  },
  {
   "cell_type": "code",
   "execution_count": 4,
   "metadata": {},
   "outputs": [
    {
     "data": {
      "text/html": [
       "<div>\n",
       "<style scoped>\n",
       "    .dataframe tbody tr th:only-of-type {\n",
       "        vertical-align: middle;\n",
       "    }\n",
       "\n",
       "    .dataframe tbody tr th {\n",
       "        vertical-align: top;\n",
       "    }\n",
       "\n",
       "    .dataframe thead th {\n",
       "        text-align: right;\n",
       "    }\n",
       "</style>\n",
       "<table border=\"1\" class=\"dataframe\">\n",
       "  <thead>\n",
       "    <tr style=\"text-align: right;\">\n",
       "      <th></th>\n",
       "      <th>0</th>\n",
       "      <th>1</th>\n",
       "      <th>2</th>\n",
       "      <th>3</th>\n",
       "      <th>4</th>\n",
       "      <th>5</th>\n",
       "    </tr>\n",
       "  </thead>\n",
       "  <tbody>\n",
       "    <tr>\n",
       "      <th>0</th>\n",
       "      <td>1</td>\n",
       "      <td>23</td>\n",
       "      <td>3</td>\n",
       "      <td>1</td>\n",
       "      <td>19</td>\n",
       "      <td>3</td>\n",
       "    </tr>\n",
       "    <tr>\n",
       "      <th>1</th>\n",
       "      <td>2</td>\n",
       "      <td>15</td>\n",
       "      <td>3</td>\n",
       "      <td>1</td>\n",
       "      <td>17</td>\n",
       "      <td>3</td>\n",
       "    </tr>\n",
       "    <tr>\n",
       "      <th>2</th>\n",
       "      <td>1</td>\n",
       "      <td>23</td>\n",
       "      <td>3</td>\n",
       "      <td>2</td>\n",
       "      <td>49</td>\n",
       "      <td>3</td>\n",
       "    </tr>\n",
       "    <tr>\n",
       "      <th>3</th>\n",
       "      <td>1</td>\n",
       "      <td>5</td>\n",
       "      <td>2</td>\n",
       "      <td>2</td>\n",
       "      <td>33</td>\n",
       "      <td>3</td>\n",
       "    </tr>\n",
       "    <tr>\n",
       "      <th>4</th>\n",
       "      <td>2</td>\n",
       "      <td>7</td>\n",
       "      <td>11</td>\n",
       "      <td>2</td>\n",
       "      <td>55</td>\n",
       "      <td>3</td>\n",
       "    </tr>\n",
       "  </tbody>\n",
       "</table>\n",
       "</div>"
      ],
      "text/plain": [
       "   0   1   2  3   4  5\n",
       "0  1  23   3  1  19  3\n",
       "1  2  15   3  1  17  3\n",
       "2  1  23   3  2  49  3\n",
       "3  1   5   2  2  33  3\n",
       "4  2   7  11  2  55  3"
      ]
     },
     "execution_count": 4,
     "metadata": {},
     "output_type": "execute_result"
    }
   ],
   "source": [
    "df.head()"
   ]
  },
  {
   "cell_type": "code",
   "execution_count": 5,
   "metadata": {},
   "outputs": [],
   "source": [
    "columns = ['English speaker', 'Course instructor', 'Course', 'Summer or regular semester', 'Class size', 'Class attribute']"
   ]
  },
  {
   "cell_type": "code",
   "execution_count": 6,
   "metadata": {},
   "outputs": [],
   "source": [
    "df.columns = columns"
   ]
  },
  {
   "cell_type": "code",
   "execution_count": 7,
   "metadata": {},
   "outputs": [
    {
     "data": {
      "text/html": [
       "<div>\n",
       "<style scoped>\n",
       "    .dataframe tbody tr th:only-of-type {\n",
       "        vertical-align: middle;\n",
       "    }\n",
       "\n",
       "    .dataframe tbody tr th {\n",
       "        vertical-align: top;\n",
       "    }\n",
       "\n",
       "    .dataframe thead th {\n",
       "        text-align: right;\n",
       "    }\n",
       "</style>\n",
       "<table border=\"1\" class=\"dataframe\">\n",
       "  <thead>\n",
       "    <tr style=\"text-align: right;\">\n",
       "      <th></th>\n",
       "      <th>English speaker</th>\n",
       "      <th>Course instructor</th>\n",
       "      <th>Course</th>\n",
       "      <th>Summer or regular semester</th>\n",
       "      <th>Class size</th>\n",
       "      <th>Class attribute</th>\n",
       "    </tr>\n",
       "  </thead>\n",
       "  <tbody>\n",
       "    <tr>\n",
       "      <th>0</th>\n",
       "      <td>1</td>\n",
       "      <td>23</td>\n",
       "      <td>3</td>\n",
       "      <td>1</td>\n",
       "      <td>19</td>\n",
       "      <td>3</td>\n",
       "    </tr>\n",
       "    <tr>\n",
       "      <th>1</th>\n",
       "      <td>2</td>\n",
       "      <td>15</td>\n",
       "      <td>3</td>\n",
       "      <td>1</td>\n",
       "      <td>17</td>\n",
       "      <td>3</td>\n",
       "    </tr>\n",
       "    <tr>\n",
       "      <th>2</th>\n",
       "      <td>1</td>\n",
       "      <td>23</td>\n",
       "      <td>3</td>\n",
       "      <td>2</td>\n",
       "      <td>49</td>\n",
       "      <td>3</td>\n",
       "    </tr>\n",
       "    <tr>\n",
       "      <th>3</th>\n",
       "      <td>1</td>\n",
       "      <td>5</td>\n",
       "      <td>2</td>\n",
       "      <td>2</td>\n",
       "      <td>33</td>\n",
       "      <td>3</td>\n",
       "    </tr>\n",
       "    <tr>\n",
       "      <th>4</th>\n",
       "      <td>2</td>\n",
       "      <td>7</td>\n",
       "      <td>11</td>\n",
       "      <td>2</td>\n",
       "      <td>55</td>\n",
       "      <td>3</td>\n",
       "    </tr>\n",
       "  </tbody>\n",
       "</table>\n",
       "</div>"
      ],
      "text/plain": [
       "   English speaker  Course instructor  Course  Summer or regular semester  \\\n",
       "0                1                 23       3                           1   \n",
       "1                2                 15       3                           1   \n",
       "2                1                 23       3                           2   \n",
       "3                1                  5       2                           2   \n",
       "4                2                  7      11                           2   \n",
       "\n",
       "   Class size  Class attribute  \n",
       "0          19                3  \n",
       "1          17                3  \n",
       "2          49                3  \n",
       "3          33                3  \n",
       "4          55                3  "
      ]
     },
     "execution_count": 7,
     "metadata": {},
     "output_type": "execute_result"
    }
   ],
   "source": [
    "df.head()"
   ]
  },
  {
   "cell_type": "code",
   "execution_count": 8,
   "metadata": {},
   "outputs": [
    {
     "name": "stdout",
     "output_type": "stream",
     "text": [
      "<class 'pandas.core.frame.DataFrame'>\n",
      "RangeIndex: 151 entries, 0 to 150\n",
      "Data columns (total 6 columns):\n",
      "English speaker               151 non-null int64\n",
      "Course instructor             151 non-null int64\n",
      "Course                        151 non-null int64\n",
      "Summer or regular semester    151 non-null int64\n",
      "Class size                    151 non-null int64\n",
      "Class attribute               151 non-null int64\n",
      "dtypes: int64(6)\n",
      "memory usage: 7.1 KB\n"
     ]
    }
   ],
   "source": [
    "df.info()"
   ]
  },
  {
   "cell_type": "code",
   "execution_count": 9,
   "metadata": {},
   "outputs": [],
   "source": [
    "x = df.drop('Class attribute', axis=1).values\n",
    "labels = df['Class attribute']\n",
    "y = pd.get_dummies(df['Class attribute']).values"
   ]
  },
  {
   "cell_type": "code",
   "execution_count": 10,
   "metadata": {},
   "outputs": [
    {
     "data": {
      "text/plain": [
       "(151, 5)"
      ]
     },
     "execution_count": 10,
     "metadata": {},
     "output_type": "execute_result"
    }
   ],
   "source": [
    "x.shape"
   ]
  },
  {
   "cell_type": "code",
   "execution_count": 11,
   "metadata": {},
   "outputs": [],
   "source": [
    "num_inputs = 5\n",
    "neurons1 = 50\n",
    "neurons2 = 20\n",
    "num_outputs = 3"
   ]
  },
  {
   "cell_type": "code",
   "execution_count": 12,
   "metadata": {},
   "outputs": [],
   "source": [
    "W1 = np.random.randn(num_inputs,neurons1)*0.01\n",
    "b1 = np.zeros(neurons1)\n",
    "\n",
    "W2 = np.random.randn(neurons1,neurons2)*0.01\n",
    "b2 = np.zeros(neurons2)\n",
    "\n",
    "W3 = np.random.randn(neurons2,num_outputs)*0.01\n",
    "b3 = np.zeros(num_outputs)"
   ]
  },
  {
   "cell_type": "code",
   "execution_count": 13,
   "metadata": {},
   "outputs": [],
   "source": [
    "# def sigmoid(x):\n",
    "#     return 1 / (1 + np.exp(-x))\n",
    "\n",
    "# def sigmoid_der(x):\n",
    "#     return x * (1 - x)"
   ]
  },
  {
   "cell_type": "code",
   "execution_count": 14,
   "metadata": {},
   "outputs": [],
   "source": [
    "def sigmoid(x):  \n",
    "    return 1 / (1 + np.exp(-x))\n",
    "\n",
    "def sigmoid_der(x):  \n",
    "    return sigmoid(x) *(1-sigmoid(x))\n",
    "\n",
    "# def softmax(A):  \n",
    "#     expA = np.exp(A)\n",
    "#     return expA / expA.sum(axis=1, keepdims=True)"
   ]
  },
  {
   "cell_type": "code",
   "execution_count": 15,
   "metadata": {},
   "outputs": [],
   "source": [
    "lr = 0.01\n",
    "error_tab = []\n",
    "lr_tab = []\n",
    "acc_tab = []\n",
    "epochs = 10000"
   ]
  },
  {
   "cell_type": "code",
   "execution_count": 16,
   "metadata": {
    "scrolled": true
   },
   "outputs": [
    {
     "name": "stdout",
     "output_type": "stream",
     "text": [
      "Epoch: 0, Loss: 103.91016874613635, Accuracy: 0.3443708609271523\n",
      "Epoch: 200, Loss: 157.0116435920595, Accuracy: 0.3973509933774834\n",
      "Epoch: 400, Loss: 154.37153051985788, Accuracy: 0.4503311258278146\n",
      "Epoch: 600, Loss: 144.81024036674665, Accuracy: 0.609271523178808\n",
      "Epoch: 800, Loss: 137.2162389931368, Accuracy: 0.5827814569536424\n",
      "Epoch: 1000, Loss: 129.44531944621968, Accuracy: 0.5960264900662252\n",
      "Epoch: 1200, Loss: 124.37981289766185, Accuracy: 0.5960264900662252\n",
      "Epoch: 1400, Loss: 122.92252018231578, Accuracy: 0.5894039735099338\n",
      "Epoch: 1600, Loss: 116.44735584741905, Accuracy: 0.6622516556291391\n",
      "Epoch: 1800, Loss: 113.46987239035663, Accuracy: 0.6622516556291391\n",
      "Epoch: 2000, Loss: 100.91656056314734, Accuracy: 0.6556291390728477\n",
      "Epoch: 2200, Loss: 98.50646675725204, Accuracy: 0.7019867549668874\n",
      "Epoch: 2400, Loss: 91.50121563958561, Accuracy: 0.7483443708609272\n",
      "Epoch: 2600, Loss: 98.54608242388167, Accuracy: 0.6622516556291391\n",
      "Epoch: 2800, Loss: 82.16196775751172, Accuracy: 0.7549668874172185\n",
      "Epoch: 3000, Loss: 80.63810110628535, Accuracy: 0.7549668874172185\n",
      "Epoch: 3200, Loss: 79.04803400055417, Accuracy: 0.7483443708609272\n",
      "Epoch: 3400, Loss: 72.74983573511574, Accuracy: 0.7814569536423841\n",
      "Epoch: 3600, Loss: 69.93765667366662, Accuracy: 0.7748344370860927\n",
      "Epoch: 3800, Loss: 68.24146432705133, Accuracy: 0.7947019867549668\n",
      "Epoch: 4000, Loss: 67.62172148177078, Accuracy: 0.8211920529801324\n",
      "Epoch: 4200, Loss: 65.84612422091232, Accuracy: 0.8079470198675497\n",
      "Epoch: 4400, Loss: 64.48355178235704, Accuracy: 0.8278145695364238\n",
      "Epoch: 4600, Loss: 63.228638683653045, Accuracy: 0.8344370860927153\n",
      "Epoch: 4800, Loss: 62.24435168236393, Accuracy: 0.8344370860927153\n",
      "Epoch: 5000, Loss: 61.41560405522669, Accuracy: 0.8344370860927153\n",
      "Epoch: 5200, Loss: 60.67936317976215, Accuracy: 0.8344370860927153\n",
      "Epoch: 5400, Loss: 60.00705017288381, Accuracy: 0.8344370860927153\n",
      "Epoch: 5600, Loss: 59.38621181832542, Accuracy: 0.8344370860927153\n",
      "Epoch: 5800, Loss: 58.800790973466945, Accuracy: 0.8344370860927153\n",
      "Epoch: 6000, Loss: 58.229960242229126, Accuracy: 0.8344370860927153\n",
      "Epoch: 6200, Loss: 57.65346381937832, Accuracy: 0.8344370860927153\n",
      "Epoch: 6400, Loss: 56.52681634164223, Accuracy: 0.8344370860927153\n",
      "Epoch: 6600, Loss: 55.490912614606884, Accuracy: 0.8410596026490066\n",
      "Epoch: 6800, Loss: 54.85741506463648, Accuracy: 0.847682119205298\n",
      "Epoch: 7000, Loss: 54.374295977320386, Accuracy: 0.847682119205298\n",
      "Epoch: 7200, Loss: 53.970556536323315, Accuracy: 0.847682119205298\n",
      "Epoch: 7400, Loss: 53.616374649500656, Accuracy: 0.847682119205298\n",
      "Epoch: 7600, Loss: 53.299670527178435, Accuracy: 0.847682119205298\n",
      "Epoch: 7800, Loss: 53.012581982169515, Accuracy: 0.8609271523178808\n",
      "Epoch: 8000, Loss: 52.74923642684962, Accuracy: 0.8609271523178808\n",
      "Epoch: 8200, Loss: 52.504875628876235, Accuracy: 0.8609271523178808\n",
      "Epoch: 8400, Loss: 52.275201953902595, Accuracy: 0.8609271523178808\n",
      "Epoch: 8600, Loss: 52.055708191009124, Accuracy: 0.8609271523178808\n",
      "Epoch: 8800, Loss: 51.84135287152389, Accuracy: 0.8609271523178808\n",
      "Epoch: 9000, Loss: 51.6299677656403, Accuracy: 0.8609271523178808\n",
      "Epoch: 9200, Loss: 51.427014561918945, Accuracy: 0.8609271523178808\n",
      "Epoch: 9400, Loss: 51.23806728907165, Accuracy: 0.8609271523178808\n",
      "Epoch: 9600, Loss: 51.063937934533286, Accuracy: 0.8609271523178808\n",
      "Epoch: 9800, Loss: 50.903247391369675, Accuracy: 0.8609271523178808\n"
     ]
    }
   ],
   "source": [
    "for epoch in range(10000):\n",
    "    \n",
    "    ########## Forward Propagation\n",
    "    \n",
    "    # Layer 1\n",
    "    z1 = np.dot(x, W1) + b1\n",
    "    a1 = sigmoid(z1)\n",
    "\n",
    "    # Layer 2\n",
    "    z2 = np.dot(a1, W2) + b2\n",
    "    a2 = sigmoid(z2)\n",
    "    \n",
    "    # Layer 3\n",
    "    z3 = np.dot(a2, W3) + b3\n",
    "    a3 = sigmoid(z3)\n",
    "    \n",
    "    ########## Back Propagation\n",
    "    \n",
    "    ########## Layer 3\n",
    "    delta3 = a3-y\n",
    "    dW3 = np.dot(a2.T, delta3)\n",
    "    \n",
    "    db3 = delta3\n",
    "    \n",
    "    ########## Layer 2\n",
    "    delta2 = np.dot(delta3, W3.T) * sigmoid_der(z2)\n",
    "    dW2 = np.dot(a1.T, delta2)\n",
    "    \n",
    "    db2 = delta2\n",
    "    \n",
    "    ########## Layer 1\n",
    "    delta1 = np.dot(delta2, W2.T) * sigmoid_der(z1)\n",
    "    dW1 = np.dot(x.T, delta1)\n",
    "    \n",
    "    db1 = delta1\n",
    "    \n",
    "    ########## Adaptive learning rate\n",
    "    lr = lr * 1/(1 + lr/epochs * epoch)\n",
    "    \n",
    "    # Update Weights ================\n",
    "    W1 -= lr * dW1\n",
    "    b1 -= lr * db1.sum(axis=0)\n",
    "\n",
    "    W2 -= lr * dW2\n",
    "    b2 -= lr * db2.sum(axis=0)\n",
    "    \n",
    "    W3 -= lr * dW3\n",
    "    b3 -= lr * db3.sum(axis=0)\n",
    "    \n",
    "    if epoch % 200 == 0:\n",
    "        loss = -np.sum(y * np.log(a3))\n",
    "        error_tab.append(loss)\n",
    "        lr_tab.append(lr)\n",
    "        equals = np.equal(np.argmax(y, axis=1), np.argmax(a3, axis=1))\n",
    "        acc = np.mean(equals)\n",
    "        acc_tab.append(acc)\n",
    "        print('Epoch: {}, Loss: {}, Accuracy: {}'.format(epoch, loss, acc))"
   ]
  },
  {
   "cell_type": "code",
   "execution_count": 17,
   "metadata": {},
   "outputs": [
    {
     "data": {
      "text/plain": [
       "[<matplotlib.lines.Line2D at 0x116b9b70>]"
      ]
     },
     "execution_count": 17,
     "metadata": {},
     "output_type": "execute_result"
    },
    {
     "data": {
      "image/png": "[encoded data removed]",
      "text/plain": [
       "<Figure size 432x288 with 1 Axes>"
      ]
     },
     "metadata": {
      "needs_background": "light"
     },
     "output_type": "display_data"
    }
   ],
   "source": [
    "plt.plot(range(len(error_tab)), error_tab)"
   ]
  },
  {
   "cell_type": "code",
   "execution_count": 18,
   "metadata": {},
   "outputs": [
    {
     "data": {
      "text/plain": [
       "[<matplotlib.lines.Line2D at 0x126f87d0>]"
      ]
     },
     "execution_count": 18,
     "metadata": {},
     "output_type": "execute_result"
    },
    {
     "data": {
      "image/png": "[encoded data removed]",
      "text/plain": [
       "<Figure size 432x288 with 1 Axes>"
      ]
     },
     "metadata": {
      "needs_background": "light"
     },
     "output_type": "display_data"
    }
   ],
   "source": [
    "plt.plot(range(len(acc_tab)), acc_tab)"
   ]
  },
  {
   "cell_type": "code",
   "execution_count": 19,
   "metadata": {},
   "outputs": [
    {
     "data": {
      "text/plain": [
       "[<matplotlib.lines.Line2D at 0x127376f0>]"
      ]
     },
     "execution_count": 19,
     "metadata": {},
     "output_type": "execute_result"
    },
    {
     "data": {
      "image/png": "[encoded data removed]",
      "text/plain": [
       "<Figure size 432x288 with 1 Axes>"
      ]
     },
     "metadata": {
      "needs_background": "light"
     },
     "output_type": "display_data"
    }
   ],
   "source": [
    "plt.plot(range(len(lr_tab)), lr_tab)"
   ]
  },
  {
   "cell_type": "code",
   "execution_count": null,
   "metadata": {},
   "outputs": [],
   "source": []
  }
 ],
 "metadata": {
  "kernelspec": {
   "display_name": "Python 3",
   "language": "python",
   "name": "python3"
  },
  "language_info": {
   "codemirror_mode": {
    "name": "ipython",
    "version": 3
   },
   "file_extension": ".py",
   "mimetype": "text/x-python",
   "name": "python",
   "nbconvert_exporter": "python",
   "pygments_lexer": "ipython3",
   "version": "3.7.3"
  }
 },
 "nbformat": 4,
 "nbformat_minor": 2
}
